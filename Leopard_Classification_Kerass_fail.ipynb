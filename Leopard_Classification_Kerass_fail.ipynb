{
  "nbformat": 4,
  "nbformat_minor": 0,
  "metadata": {
    "colab": {
      "provenance": [],
      "gpuType": "T4",
      "authorship_tag": "ABX9TyPLKOQpEFqIwmY18INUrKLO",
      "include_colab_link": true
    },
    "kernelspec": {
      "name": "python3",
      "display_name": "Python 3"
    },
    "language_info": {
      "name": "python"
    },
    "accelerator": "GPU"
  },
  "cells": [
    {
      "cell_type": "markdown",
      "metadata": {
        "id": "view-in-github",
        "colab_type": "text"
      },
      "source": [
        "<a href=\"https://colab.research.google.com/github/Rotor-380/Kaggle/blob/main/Leopard_Classification_Kerass_fail.ipynb\" target=\"_parent\"><img src=\"https://colab.research.google.com/assets/colab-badge.svg\" alt=\"Open In Colab\"/></a>"
      ]
    },
    {
      "cell_type": "code",
      "source": [
        "!pip install phik"
      ],
      "metadata": {
        "id": "ybN4fbUmPix6"
      },
      "execution_count": null,
      "outputs": []
    },
    {
      "cell_type": "code",
      "source": [
        "!pip install catboost"
      ],
      "metadata": {
        "id": "_-vqds18QQeD"
      },
      "execution_count": null,
      "outputs": []
    },
    {
      "cell_type": "code",
      "execution_count": 3,
      "metadata": {
        "id": "D7XxITxYOAUi"
      },
      "outputs": [],
      "source": [
        "import pandas as pd\n",
        "import numpy as np\n",
        "from sklearn.metrics import mean_absolute_error\n",
        "from sklearn.model_selection import train_test_split, cross_val_score, GridSearchCV\n",
        "import xgboost as xgb\n",
        "from sklearn.metrics import mean_absolute_percentage_error\n",
        "from sklearn.model_selection import GridSearchCV\n",
        "from sklearn.metrics import make_scorer\n",
        "import matplotlib.pyplot as plt\n",
        "import seaborn as sns\n",
        "from phik.report import plot_correlation_matrix\n",
        "from sklearn.metrics import mean_absolute_percentage_error\n",
        "# from catboost import CatBoostClassifier, CatBoostRegressor, Pool\n",
        "from sklearn.model_selection import train_test_split\n",
        "from sklearn.metrics import log_loss"
      ]
    },
    {
      "cell_type": "code",
      "source": [
        "df_raw = pd.read_csv(r'/content/train.csv')"
      ],
      "metadata": {
        "id": "ArCAr450OU3m"
      },
      "execution_count": 32,
      "outputs": []
    },
    {
      "cell_type": "code",
      "source": [
        "df_raw.info()"
      ],
      "metadata": {
        "id": "uo2nd0dBPNDm",
        "colab": {
          "base_uri": "https://localhost:8080/"
        },
        "outputId": "ae2c20a1-df6f-4f73-8180-27e953895c84"
      },
      "execution_count": 33,
      "outputs": [
        {
          "output_type": "stream",
          "name": "stdout",
          "text": [
            "<class 'pandas.core.frame.DataFrame'>\n",
            "RangeIndex: 13863 entries, 0 to 13862\n",
            "Data columns (total 26 columns):\n",
            " #   Column               Non-Null Count  Dtype  \n",
            "---  ------               --------------  -----  \n",
            " 0   ID                   13863 non-null  int64  \n",
            " 1   age                  13863 non-null  int64  \n",
            " 2   height(cm)           13863 non-null  int64  \n",
            " 3   weight(kg)           13863 non-null  int64  \n",
            " 4   waist(cm)            13863 non-null  float64\n",
            " 5   eyesight(left)       13863 non-null  float64\n",
            " 6   eyesight(right)      13863 non-null  float64\n",
            " 7   hearing(left)        13863 non-null  float64\n",
            " 8   hearing(right)       13863 non-null  float64\n",
            " 9   systolic             13863 non-null  float64\n",
            " 10  relaxation           13863 non-null  float64\n",
            " 11  fasting blood sugar  13863 non-null  float64\n",
            " 12  Cholesterol          13863 non-null  float64\n",
            " 13  triglyceride         13863 non-null  float64\n",
            " 14  HDL                  13863 non-null  float64\n",
            " 15  LDL                  13863 non-null  float64\n",
            " 16  hemoglobin           13863 non-null  float64\n",
            " 17  Urine protein        13863 non-null  float64\n",
            " 18  serum creatinine     13863 non-null  float64\n",
            " 19  AST                  13863 non-null  float64\n",
            " 20  ALT                  13863 non-null  float64\n",
            " 21  Gtp                  13863 non-null  float64\n",
            " 22  oral                 13863 non-null  object \n",
            " 23  dental caries        13863 non-null  int64  \n",
            " 24  tartar               13863 non-null  object \n",
            " 25  smoking              13863 non-null  int64  \n",
            "dtypes: float64(18), int64(6), object(2)\n",
            "memory usage: 2.8+ MB\n"
          ]
        }
      ]
    },
    {
      "cell_type": "code",
      "source": [
        "# строим зависимость по Фику\n",
        "phik_overview = df_raw.phik_matrix()\n",
        "phik_overview['smoking'].sort_values(ascending=False)"
      ],
      "metadata": {
        "id": "u9RFOga-S3Vd",
        "colab": {
          "base_uri": "https://localhost:8080/"
        },
        "outputId": "509830ba-945c-4bb3-8cc8-363c018b7665"
      },
      "execution_count": 6,
      "outputs": [
        {
          "output_type": "stream",
          "name": "stdout",
          "text": [
            "interval columns not set, guessing: ['ID', 'age', 'height(cm)', 'weight(kg)', 'waist(cm)', 'eyesight(left)', 'eyesight(right)', 'hearing(left)', 'hearing(right)', 'systolic', 'relaxation', 'fasting blood sugar', 'Cholesterol', 'triglyceride', 'HDL', 'LDL', 'hemoglobin', 'Urine protein', 'serum creatinine', 'AST', 'ALT', 'Gtp', 'dental caries', 'smoking']\n"
          ]
        },
        {
          "output_type": "stream",
          "name": "stderr",
          "text": [
            "/usr/local/lib/python3.10/dist-packages/phik/data_quality.py:82: UserWarning: Not enough unique value for variable oral for analysis 1. Dropping this column\n",
            "  warnings.warn(\n"
          ]
        },
        {
          "output_type": "execute_result",
          "data": {
            "text/plain": [
              "smoking                1.000000\n",
              "triglyceride           0.190617\n",
              "age                    0.183296\n",
              "Gtp                    0.142844\n",
              "hemoglobin             0.112074\n",
              "tartar                 0.104470\n",
              "dental caries          0.089124\n",
              "waist(cm)              0.062522\n",
              "serum creatinine       0.055594\n",
              "HDL                    0.050773\n",
              "weight(kg)             0.042934\n",
              "fasting blood sugar    0.041979\n",
              "hearing(left)          0.035270\n",
              "height(cm)             0.035266\n",
              "Urine protein          0.030645\n",
              "hearing(right)         0.024719\n",
              "relaxation             0.023451\n",
              "LDL                    0.022210\n",
              "systolic               0.016464\n",
              "Cholesterol            0.015907\n",
              "ALT                    0.014651\n",
              "AST                    0.001957\n",
              "eyesight(right)        0.000000\n",
              "eyesight(left)         0.000000\n",
              "ID                     0.000000\n",
              "Name: smoking, dtype: float64"
            ]
          },
          "metadata": {},
          "execution_count": 6
        }
      ]
    },
    {
      "cell_type": "code",
      "source": [
        "df = df_raw.drop(['oral', 'ID'], axis=1).copy() # , 'eyesight(left)', 'eyesight(right)', 'AST', 'ALT', 'hearing(right)', 'relaxation'\n",
        "df['tartar'] = df['tartar'].apply(lambda x: 1 if x == 'Y' else 0)"
      ],
      "metadata": {
        "id": "KdKQ9aNxS3Yj"
      },
      "execution_count": 754,
      "outputs": []
    },
    {
      "cell_type": "code",
      "source": [
        "# Разделение данных по классам целевой переменной 'smoking'\n",
        "non_smokers = df[df['smoking'] == 0]\n",
        "smokers = df[df['smoking'] == 1]\n",
        "\n",
        "filtered_df = non_smokers.copy()"
      ],
      "metadata": {
        "id": "5ZPHrMLeQHyR"
      },
      "execution_count": 8,
      "outputs": []
    },
    {
      "cell_type": "code",
      "source": [
        "for col in df.iloc[:, 1:].columns.to_list():\n",
        "    if df[col].nunique() > 20:\n",
        "        print(col)\n",
        "        # Calculate IQR for BuildingArea\n",
        "        Q1 = df[col].quantile(0.25)\n",
        "        Q3 = df[col].quantile(0.75)\n",
        "        IQR = Q3 - Q1\n",
        "\n",
        "        # Calculate the lower and upper bounds for outliers\n",
        "        lower_bound = Q1 - 1.5 * IQR\n",
        "        upper_bound = Q3 + 1.5 * IQR\n",
        "\n",
        "        # Count outliers\n",
        "        outliers = df[(df[col] < lower_bound) | (df[col] > upper_bound)]\n",
        "        num_outliers = outliers.shape[0]\n",
        "\n",
        "#         print(lower_bound, upper_bound, num_outliers)\n",
        "#         print(df[col].nunique())\n",
        "#         print()\n",
        "        filtered_df = filtered_df[(filtered_df[col] >= lower_bound) & (filtered_df[col] <= upper_bound)]\n",
        "\n",
        "merged_data = pd.concat([filtered_df, smokers], axis=0)\n",
        "merged_data.shape"
      ],
      "metadata": {
        "colab": {
          "base_uri": "https://localhost:8080/"
        },
        "id": "2NI-5WNNcFnP",
        "outputId": "efa10cbc-f807-41bd-ba1b-aa70215f13f2"
      },
      "execution_count": 9,
      "outputs": [
        {
          "output_type": "stream",
          "name": "stdout",
          "text": [
            "waist(cm)\n",
            "systolic\n",
            "relaxation\n",
            "fasting blood sugar\n",
            "Cholesterol\n",
            "triglyceride\n",
            "HDL\n",
            "LDL\n",
            "hemoglobin\n",
            "serum creatinine\n",
            "AST\n",
            "ALT\n",
            "Gtp\n"
          ]
        },
        {
          "output_type": "execute_result",
          "data": {
            "text/plain": [
              "(11018, 24)"
            ]
          },
          "metadata": {},
          "execution_count": 9
        }
      ]
    },
    {
      "cell_type": "code",
      "source": [
        "merged_data = df.copy()"
      ],
      "metadata": {
        "id": "EcRdjqdzYCL5"
      },
      "execution_count": 35,
      "outputs": []
    },
    {
      "cell_type": "code",
      "source": [
        "merged_data['log_tr'] = merged_data['triglyceride'].apply(np.log)\n",
        "merged_data['log_gtp'] = merged_data['Gtp'].apply(np.log)\n",
        "merged_data['BMI'] = merged_data['weight(kg)'] / ((merged_data['height(cm)'] / 100) ** 2)\n",
        "merged_data['middle_aged'] = (merged_data['age'] >= 40) & (merged_data['age'] <= 64)\n",
        "merged_data['senior'] = merged_data['age'] >= 65\n",
        "merged_data['middle_aged'] = merged_data['middle_aged'].apply(lambda x: 1 if x == True else 0)\n",
        "merged_data['senior'] = merged_data['senior'].apply(lambda x: 1 if x == True else 0)\n",
        "merged_data['log_tr'] = merged_data['triglyceride'].apply(np.log)\n",
        "merged_data['log_gtp'] = merged_data['Gtp'].apply(np.log)\n",
        "merged_data['log_log_alt'] = np.log(np.log(merged_data['ALT']))\n",
        "merged_data['BMI_log_gtp'] = merged_data['BMI'].apply(np.log)\n"
      ],
      "metadata": {
        "id": "jm0vGTmmcFp6"
      },
      "execution_count": 11,
      "outputs": []
    },
    {
      "cell_type": "code",
      "source": [
        "# строим зависимость по Фику\n",
        "phik_overview = merged_data.phik_matrix()\n",
        "phik_overview['smoking'].sort_values(ascending=False)"
      ],
      "metadata": {
        "colab": {
          "base_uri": "https://localhost:8080/"
        },
        "id": "hJSHGt3AcFsd",
        "outputId": "776277c0-4ae1-4fe4-9e10-265dfa8a6bde"
      },
      "execution_count": 36,
      "outputs": [
        {
          "output_type": "stream",
          "name": "stdout",
          "text": [
            "interval columns not set, guessing: ['age', 'height(cm)', 'weight(kg)', 'waist(cm)', 'eyesight(left)', 'eyesight(right)', 'hearing(left)', 'hearing(right)', 'systolic', 'relaxation', 'fasting blood sugar', 'Cholesterol', 'triglyceride', 'HDL', 'LDL', 'hemoglobin', 'Urine protein', 'serum creatinine', 'AST', 'ALT', 'Gtp', 'dental caries', 'tartar', 'smoking']\n"
          ]
        },
        {
          "output_type": "execute_result",
          "data": {
            "text/plain": [
              "smoking                1.000000\n",
              "triglyceride           0.190617\n",
              "age                    0.183296\n",
              "Gtp                    0.142844\n",
              "hemoglobin             0.112074\n",
              "tartar                 0.104470\n",
              "dental caries          0.089124\n",
              "waist(cm)              0.062522\n",
              "serum creatinine       0.055594\n",
              "HDL                    0.050773\n",
              "weight(kg)             0.042934\n",
              "fasting blood sugar    0.041979\n",
              "hearing(left)          0.035270\n",
              "height(cm)             0.035266\n",
              "Urine protein          0.030645\n",
              "hearing(right)         0.024719\n",
              "relaxation             0.023451\n",
              "LDL                    0.022210\n",
              "systolic               0.016464\n",
              "Cholesterol            0.015907\n",
              "ALT                    0.014651\n",
              "AST                    0.001957\n",
              "eyesight(right)        0.000000\n",
              "eyesight(left)         0.000000\n",
              "Name: smoking, dtype: float64"
            ]
          },
          "metadata": {},
          "execution_count": 36
        }
      ]
    },
    {
      "cell_type": "code",
      "source": [
        "merged_data.info()"
      ],
      "metadata": {
        "colab": {
          "base_uri": "https://localhost:8080/"
        },
        "id": "8_CSOHdMcsz5",
        "outputId": "f0b96c2c-0288-4c1d-f1c7-dffd30d016ed"
      },
      "execution_count": 37,
      "outputs": [
        {
          "output_type": "stream",
          "name": "stdout",
          "text": [
            "<class 'pandas.core.frame.DataFrame'>\n",
            "RangeIndex: 13863 entries, 0 to 13862\n",
            "Data columns (total 24 columns):\n",
            " #   Column               Non-Null Count  Dtype  \n",
            "---  ------               --------------  -----  \n",
            " 0   age                  13863 non-null  int64  \n",
            " 1   height(cm)           13863 non-null  int64  \n",
            " 2   weight(kg)           13863 non-null  int64  \n",
            " 3   waist(cm)            13863 non-null  float64\n",
            " 4   eyesight(left)       13863 non-null  float64\n",
            " 5   eyesight(right)      13863 non-null  float64\n",
            " 6   hearing(left)        13863 non-null  float64\n",
            " 7   hearing(right)       13863 non-null  float64\n",
            " 8   systolic             13863 non-null  float64\n",
            " 9   relaxation           13863 non-null  float64\n",
            " 10  fasting blood sugar  13863 non-null  float64\n",
            " 11  Cholesterol          13863 non-null  float64\n",
            " 12  triglyceride         13863 non-null  float64\n",
            " 13  HDL                  13863 non-null  float64\n",
            " 14  LDL                  13863 non-null  float64\n",
            " 15  hemoglobin           13863 non-null  float64\n",
            " 16  Urine protein        13863 non-null  float64\n",
            " 17  serum creatinine     13863 non-null  float64\n",
            " 18  AST                  13863 non-null  float64\n",
            " 19  ALT                  13863 non-null  float64\n",
            " 20  Gtp                  13863 non-null  float64\n",
            " 21  dental caries        13863 non-null  int64  \n",
            " 22  tartar               13863 non-null  int64  \n",
            " 23  smoking              13863 non-null  int64  \n",
            "dtypes: float64(18), int64(6)\n",
            "memory usage: 2.5 MB\n"
          ]
        }
      ]
    },
    {
      "cell_type": "code",
      "source": [
        "from sklearn.model_selection import train_test_split\n",
        "\n",
        "merged_data = df.copy() # =======================================================\n",
        "\n",
        "X = merged_data.drop(['smoking'], axis=1) #\n",
        "y = merged_data['smoking']\n",
        "\n",
        "# polynomial_converter = PolynomialFeatures(degree=2, include_bias=False)\n",
        "# pX = polynomial_converter.fit_transform(X)\n",
        "\n",
        "# Разделение данных на обучающую и тестовую выборки\n",
        "X_train, X_test, y_train, y_test = train_test_split(X, y, test_size=0.2, random_state=42, stratify=y)"
      ],
      "metadata": {
        "id": "45GbUYrUcFu1"
      },
      "execution_count": 733,
      "outputs": []
    },
    {
      "cell_type": "code",
      "source": [
        "from tensorflow import keras\n",
        "from tensorflow.keras import layers"
      ],
      "metadata": {
        "id": "44qY4DQgcR3O"
      },
      "execution_count": 734,
      "outputs": []
    },
    {
      "cell_type": "code",
      "source": [
        "print('TRAIN:', X_train.shape, y_train.shape)\n",
        "print('TEST', X_test.shape, y_test.shape)"
      ],
      "metadata": {
        "colab": {
          "base_uri": "https://localhost:8080/"
        },
        "id": "NU--E8JZfT04",
        "outputId": "96f7b659-77fd-470f-e862-a3cc68b999fb"
      },
      "execution_count": 735,
      "outputs": [
        {
          "output_type": "stream",
          "name": "stdout",
          "text": [
            "TRAIN: (11090, 23) (11090,)\n",
            "TEST (2773, 23) (2773,)\n"
          ]
        }
      ]
    },
    {
      "cell_type": "code",
      "source": [
        "from sklearn.preprocessing import MinMaxScaler\n",
        "\n",
        "# Масштабирование признаков\n",
        "scaler = MinMaxScaler()\n",
        "X_train = scaler.fit_transform(X_train)\n",
        "X_test = scaler.transform(X_test)\n",
        "\n",
        "X_train.shape, X_test.shape"
      ],
      "metadata": {
        "colab": {
          "base_uri": "https://localhost:8080/"
        },
        "id": "kwTsvWkgfoew",
        "outputId": "1f7fc1b4-7c60-4ba6-8dd4-89e66f93f3de"
      },
      "execution_count": 736,
      "outputs": [
        {
          "output_type": "execute_result",
          "data": {
            "text/plain": [
              "((11090, 23), (2773, 23))"
            ]
          },
          "metadata": {},
          "execution_count": 736
        }
      ]
    },
    {
      "cell_type": "code",
      "source": [
        "from keras.models import Sequential\n",
        "from keras.layers import Dense\n",
        "from keras.layers import Dropout"
      ],
      "metadata": {
        "id": "-YpiILjbz32h"
      },
      "execution_count": 737,
      "outputs": []
    },
    {
      "cell_type": "code",
      "source": [
        "from keras.callbacks import EarlyStopping, ReduceLROnPlateau\n",
        "from tensorflow.keras.optimizers import RMSprop\n",
        "from sklearn.metrics import confusion_matrix, f1_score"
      ],
      "metadata": {
        "id": "KQ_9X1Ukup0_"
      },
      "execution_count": 738,
      "outputs": []
    },
    {
      "cell_type": "code",
      "source": [
        "n_features = X_train.shape[1]\n",
        "\n",
        "def create_classification_model():\n",
        "    # Создание модели\n",
        "    model = Sequential()\n",
        "    model.add(Dense(9, activation='relu', input_shape=(n_features,)))\n",
        "    model.add(Dropout(0.3))\n",
        "    # model.add(Dense(16, activation='relu', kernel_regularizer=l2(0.2), bias_regularizer=l2(0.2)))\n",
        "    # model.add(Dropout(0.2))\n",
        "    # model.add(Dense(128, activation='relu', kernel_regularizer=l1_l2(l1=0.05, l2=0.051)))\n",
        "    # model.add(Dropout(0.4))\n",
        "    # model.add(Dense(128, activation='relu', kernel_regularizer=l1_l2(l1=0.05, l2=0.051)))\n",
        "    # model.add(Dropout(0.3))\n",
        "    # model.add(Dense(128, activation='relu', kernel_regularizer=l2(0.05), bias_regularizer=l2(0.05)))\n",
        "    # model.add(Dropout(0.4))\n",
        "    # model.add(Dense(64, activation='relu'))\n",
        "    # model.add(Dropout(0.3))\n",
        "    model.add(Dense(3, activation='relu'))\n",
        "    model.add(Dense(2, activation='relu'))\n",
        "    model.add(Dropout(0.3))\n",
        "    model.add(Dense(1, activation='sigmoid'))  # Сигмоидная активация для бинарной классификации\n",
        "    return model"
      ],
      "metadata": {
        "id": "vunrEWVvupyX"
      },
      "execution_count": 739,
      "outputs": []
    },
    {
      "cell_type": "code",
      "source": [
        "from tensorflow.keras.optimizers import SGD, Adam, RMSprop, Adagrad\n",
        "from tensorflow.keras.optimizers import  Adadelta, Nadam\n",
        "from tensorflow.keras import optimizers\n",
        "from keras.regularizers import l1, l2, l1_l2"
      ],
      "metadata": {
        "id": "7e31m32B03h7"
      },
      "execution_count": 740,
      "outputs": []
    },
    {
      "cell_type": "code",
      "source": [
        "# Рассчитываем веса классов\n",
        "from sklearn.utils import class_weight\n",
        "weights = class_weight.compute_class_weight('balanced', classes=[0, 1], y=y_train)\n",
        "class_weights = {0: weights[0], 1: weights[1]}\n",
        "class_weights"
      ],
      "metadata": {
        "colab": {
          "base_uri": "https://localhost:8080/"
        },
        "id": "3HDoFlx9APQj",
        "outputId": "20897ad5-7ea5-4b78-f77b-8baaf81a75c8"
      },
      "execution_count": 741,
      "outputs": [
        {
          "output_type": "execute_result",
          "data": {
            "text/plain": [
              "{0: 0.6265536723163841, 1: 2.4754464285714284}"
            ]
          },
          "metadata": {},
          "execution_count": 741
        }
      ]
    },
    {
      "cell_type": "code",
      "source": [
        "# Оптимизатор\n",
        "sgd = SGD(learning_rate=0.05, momentum=0.5, nesterov=True)\n",
        "adam = Adam(learning_rate=0.0005, beta_1=0.9, beta_2=0.999, epsilon=1e-08)\n",
        "rmsprop = RMSprop(learning_rate=0.01, rho=0.9, epsilon=1e-08)\n",
        "adagrad = Adagrad(learning_rate=0.001, epsilon=1e-08)\n",
        "nadam = Nadam(learning_rate=0.01, beta_1=0.9, beta_2=0.999, epsilon=1e-07)\n",
        "ftrl = optimizers.Ftrl(learning_rate=0.0001, l1_regularization_strength=0.1, l2_regularization_strength=0.0, beta=0.0)\n",
        "adadelta = Adadelta(learning_rate=1.0, rho=0.95, epsilon=1e-07)"
      ],
      "metadata": {
        "id": "UlznhMq-00rJ"
      },
      "execution_count": 742,
      "outputs": []
    },
    {
      "cell_type": "code",
      "source": [
        "# Создание и компиляция модели\n",
        "Keras_model = create_classification_model()\n",
        "Keras_model.compile(optimizer=sgd, loss='binary_crossentropy', metrics=['accuracy'])\n",
        "\n",
        "# Создание объектов EarlyStopping и ReduceLROnPlateau\n",
        "early_stopping = EarlyStopping(monitor='val_loss', patience=50, restore_best_weights=True)\n",
        "reduce_lr = ReduceLROnPlateau(monitor='val_loss', factor=0.1, patience=50, min_lr=0.0001)\n",
        "\n",
        "# Обучение модели\n",
        "history = Keras_model.fit(X_train, y_train, epochs=300, batch_size=64, validation_split=0.2, verbose=0.5, callbacks=[early_stopping, reduce_lr], class_weight=class_weights)\n",
        "\n",
        "# Предсказание на тестовой выборке\n",
        "y_pred_probs = Keras_model.predict(X_test)\n",
        "\n",
        "# Вычисление матрицы корреляции\n",
        "corr_matrix = np.corrcoef(y_test, y_pred_probs[:, 0])\n",
        "\n",
        "# Подбор оптимального порога для F1-меры\n",
        "thresholds = np.linspace(0.1, 0.9, 200)\n",
        "f1_scores = [f1_score(y_test, y_pred_probs > thr) for thr in thresholds]\n",
        "optimal_threshold = thresholds[np.argmax(f1_scores)]\n",
        "f1_optimal = f1_score(y_test, y_pred_probs > optimal_threshold)\n",
        "\n",
        "corr_matrix[0, 1], optimal_threshold, f1_optimal"
      ],
      "metadata": {
        "colab": {
          "base_uri": "https://localhost:8080/"
        },
        "id": "kLIWXMK1up3L",
        "outputId": "f1f6b322-65c1-45b6-ba11-aa969c0ea4d8"
      },
      "execution_count": 743,
      "outputs": [
        {
          "output_type": "stream",
          "name": "stdout",
          "text": [
            "Epoch 1/300\n",
            "Epoch 2/300\n",
            "Epoch 3/300\n",
            "Epoch 4/300\n",
            "Epoch 5/300\n",
            "Epoch 6/300\n",
            "Epoch 7/300\n",
            "Epoch 8/300\n",
            "Epoch 9/300\n",
            "Epoch 10/300\n",
            "Epoch 11/300\n",
            "Epoch 12/300\n",
            "Epoch 13/300\n",
            "Epoch 14/300\n",
            "Epoch 15/300\n",
            "Epoch 16/300\n",
            "Epoch 17/300\n",
            "Epoch 18/300\n",
            "Epoch 19/300\n",
            "Epoch 20/300\n",
            "Epoch 21/300\n",
            "Epoch 22/300\n",
            "Epoch 23/300\n",
            "Epoch 24/300\n",
            "Epoch 25/300\n",
            "Epoch 26/300\n",
            "Epoch 27/300\n",
            "Epoch 28/300\n",
            "Epoch 29/300\n",
            "Epoch 30/300\n",
            "Epoch 31/300\n",
            "Epoch 32/300\n",
            "Epoch 33/300\n",
            "Epoch 34/300\n",
            "Epoch 35/300\n",
            "Epoch 36/300\n",
            "Epoch 37/300\n",
            "Epoch 38/300\n",
            "Epoch 39/300\n",
            "Epoch 40/300\n",
            "Epoch 41/300\n",
            "Epoch 42/300\n",
            "Epoch 43/300\n",
            "Epoch 44/300\n",
            "Epoch 45/300\n",
            "Epoch 46/300\n",
            "Epoch 47/300\n",
            "Epoch 48/300\n",
            "Epoch 49/300\n",
            "Epoch 50/300\n",
            "Epoch 51/300\n",
            "Epoch 52/300\n",
            "Epoch 53/300\n",
            "Epoch 54/300\n",
            "Epoch 55/300\n",
            "Epoch 56/300\n",
            "Epoch 57/300\n",
            "Epoch 58/300\n",
            "Epoch 59/300\n",
            "Epoch 60/300\n",
            "Epoch 61/300\n",
            "Epoch 62/300\n",
            "Epoch 63/300\n",
            "Epoch 64/300\n",
            "Epoch 65/300\n",
            "Epoch 66/300\n",
            "Epoch 67/300\n",
            "Epoch 68/300\n",
            "Epoch 69/300\n",
            "Epoch 70/300\n",
            "Epoch 71/300\n",
            "Epoch 72/300\n",
            "Epoch 73/300\n",
            "Epoch 74/300\n",
            "Epoch 75/300\n",
            "Epoch 76/300\n",
            "Epoch 77/300\n",
            "Epoch 78/300\n",
            "Epoch 79/300\n",
            "Epoch 80/300\n",
            "Epoch 81/300\n",
            "Epoch 82/300\n",
            "Epoch 83/300\n",
            "Epoch 84/300\n",
            "Epoch 85/300\n",
            "Epoch 86/300\n",
            "Epoch 87/300\n",
            "Epoch 88/300\n",
            "Epoch 89/300\n",
            "Epoch 90/300\n",
            "Epoch 91/300\n",
            "Epoch 92/300\n",
            "Epoch 93/300\n",
            "Epoch 94/300\n",
            "Epoch 95/300\n",
            "Epoch 96/300\n",
            "Epoch 97/300\n",
            "Epoch 98/300\n",
            "Epoch 99/300\n",
            "Epoch 100/300\n",
            "Epoch 101/300\n",
            "Epoch 102/300\n",
            "Epoch 103/300\n",
            "Epoch 104/300\n",
            "Epoch 105/300\n",
            "Epoch 106/300\n",
            "Epoch 107/300\n",
            "Epoch 108/300\n",
            "Epoch 109/300\n",
            "Epoch 110/300\n",
            "Epoch 111/300\n",
            "Epoch 112/300\n",
            "Epoch 113/300\n",
            "Epoch 114/300\n",
            "Epoch 115/300\n",
            "Epoch 116/300\n",
            "Epoch 117/300\n",
            "Epoch 118/300\n",
            "Epoch 119/300\n",
            "Epoch 120/300\n",
            "Epoch 121/300\n",
            "Epoch 122/300\n",
            "Epoch 123/300\n",
            "Epoch 124/300\n",
            "Epoch 125/300\n",
            "Epoch 126/300\n",
            "Epoch 127/300\n",
            "Epoch 128/300\n",
            "Epoch 129/300\n",
            "Epoch 130/300\n",
            "Epoch 131/300\n",
            "Epoch 132/300\n",
            "Epoch 133/300\n",
            "Epoch 134/300\n",
            "Epoch 135/300\n",
            "Epoch 136/300\n",
            "Epoch 137/300\n",
            "Epoch 138/300\n",
            "Epoch 139/300\n",
            "Epoch 140/300\n",
            "Epoch 141/300\n",
            "Epoch 142/300\n",
            "Epoch 143/300\n",
            "Epoch 144/300\n",
            "Epoch 145/300\n",
            "Epoch 146/300\n",
            "Epoch 147/300\n",
            "Epoch 148/300\n",
            "Epoch 149/300\n",
            "87/87 [==============================] - 0s 2ms/step\n"
          ]
        },
        {
          "output_type": "execute_result",
          "data": {
            "text/plain": [
              "(0.2342049864588347, 0.4296482412060302, 0.40623428858722976)"
            ]
          },
          "metadata": {},
          "execution_count": 743
        }
      ]
    },
    {
      "cell_type": "code",
      "source": [
        "from tensorflow.keras.metrics import Precision, Recall\n",
        "\n",
        "precision = Precision()\n",
        "recall = Recall()\n",
        "\n",
        "def f1(y_true, y_pred):\n",
        "    p = precision(y_true, y_pred)\n",
        "    r = recall(y_true, y_pred)\n",
        "    return 2 * ((p * r) / (p + r + K.epsilon()))\n"
      ],
      "metadata": {
        "id": "oOYIZYzguQt8"
      },
      "execution_count": 744,
      "outputs": []
    },
    {
      "cell_type": "code",
      "source": [
        "# Получение прогноза на валидационном наборе\n",
        "f1#, conf_matrix"
      ],
      "metadata": {
        "colab": {
          "base_uri": "https://localhost:8080/"
        },
        "id": "r73qLC-s0e7U",
        "outputId": "c336411e-0caa-40e4-d2f3-22ff9aad09b2"
      },
      "execution_count": 745,
      "outputs": [
        {
          "output_type": "execute_result",
          "data": {
            "text/plain": [
              "<function __main__.f1(y_true, y_pred)>"
            ]
          },
          "metadata": {},
          "execution_count": 745
        }
      ]
    },
    {
      "cell_type": "code",
      "source": [
        "merged_data[X.columns.to_list()].values.astype('float32')"
      ],
      "metadata": {
        "colab": {
          "base_uri": "https://localhost:8080/"
        },
        "id": "TNQYPplf5zDr",
        "outputId": "5972e2bd-e4db-46bf-a4ea-7a1d095dac03"
      },
      "execution_count": 746,
      "outputs": [
        {
          "output_type": "execute_result",
          "data": {
            "text/plain": [
              "array([[ 65., 170.,  75., ..., 122.,   0.,   0.],\n",
              "       [ 35., 170.,  85., ...,  40.,   0.,   1.],\n",
              "       [ 70., 165.,  55., ...,  19.,   0.,   1.],\n",
              "       ...,\n",
              "       [ 65., 170.,  70., ...,  24.,   1.,   1.],\n",
              "       [ 30., 160.,  80., ...,  31.,   0.,   0.],\n",
              "       [ 60., 170.,  70., ...,  32.,   1.,   1.]], dtype=float32)"
            ]
          },
          "metadata": {},
          "execution_count": 746
        }
      ]
    },
    {
      "cell_type": "code",
      "source": [
        "# X_np = df[X.columns.to_list()].values/\n",
        "merged_data['pred_smoking'] = Keras_model.predict(merged_data[X.columns.to_list()].values.astype('float32'))"
      ],
      "metadata": {
        "colab": {
          "base_uri": "https://localhost:8080/"
        },
        "id": "mheM_PrT2ixV",
        "outputId": "bdc7b4c1-c016-41fd-e801-382a4425d8a5"
      },
      "execution_count": 747,
      "outputs": [
        {
          "output_type": "stream",
          "name": "stdout",
          "text": [
            "434/434 [==============================] - 1s 1ms/step\n"
          ]
        }
      ]
    },
    {
      "cell_type": "code",
      "source": [
        "merged_data['pred_smoking']"
      ],
      "metadata": {
        "colab": {
          "base_uri": "https://localhost:8080/"
        },
        "id": "Q1ZpCPRC7Lr1",
        "outputId": "9668ed72-0900-4d12-b928-abfbf01e5b8d"
      },
      "execution_count": 748,
      "outputs": [
        {
          "output_type": "execute_result",
          "data": {
            "text/plain": [
              "0        1.653008e-14\n",
              "1        5.959734e-01\n",
              "2        0.000000e+00\n",
              "3        1.901665e-17\n",
              "4        1.314374e-17\n",
              "             ...     \n",
              "13858    4.563244e-19\n",
              "13859    2.455803e-13\n",
              "13860    0.000000e+00\n",
              "13861    2.155936e-07\n",
              "13862    3.490138e-33\n",
              "Name: pred_smoking, Length: 13863, dtype: float32"
            ]
          },
          "metadata": {},
          "execution_count": 748
        }
      ]
    },
    {
      "cell_type": "code",
      "source": [
        "merged_data['pred_smoking'] = (merged_data['pred_smoking'] > optimal_threshold).astype(int)"
      ],
      "metadata": {
        "id": "30TSq60b9_97"
      },
      "execution_count": 749,
      "outputs": []
    },
    {
      "cell_type": "code",
      "source": [
        "from sklearn.metrics import confusion_matrix, ConfusionMatrixDisplay, \\\n",
        "    classification_report, roc_auc_score\n",
        "\n",
        "ConfusionMatrixDisplay(confusion_matrix(merged_data['smoking'], merged_data['pred_smoking'])).plot()"
      ],
      "metadata": {
        "colab": {
          "base_uri": "https://localhost:8080/",
          "height": 466
        },
        "id": "hu5nxM8n3_W8",
        "outputId": "a91018c0-8675-4c0f-bc6a-4ccf8baf3ed5"
      },
      "execution_count": 750,
      "outputs": [
        {
          "output_type": "execute_result",
          "data": {
            "text/plain": [
              "<sklearn.metrics._plot.confusion_matrix.ConfusionMatrixDisplay at 0x798ebc2e1f30>"
            ]
          },
          "metadata": {},
          "execution_count": 750
        },
        {
          "output_type": "display_data",
          "data": {
            "text/plain": [
              "<Figure size 640x480 with 2 Axes>"
            ],
            "image/png": "[encoded data removed]"
          },
          "metadata": {}
        }
      ]
    },
    {
      "cell_type": "code",
      "source": [],
      "metadata": {
        "id": "b4fYLzZi7AtJ"
      },
      "execution_count": 507,
      "outputs": []
    },
    {
      "cell_type": "code",
      "source": [
        "df_test = pd.read_csv(r'/content/test.csv')"
      ],
      "metadata": {
        "id": "Tsx5ydzFuL0y"
      },
      "execution_count": 755,
      "outputs": []
    },
    {
      "cell_type": "code",
      "source": [
        "df_test = df_test.drop(['oral', 'ID'], axis=1).copy()\n",
        "df_test['tartar'] = df_test['tartar'].apply(lambda x: 1 if x == 'Y' else 0)"
      ],
      "metadata": {
        "id": "6FCZLuYguL3i"
      },
      "execution_count": 756,
      "outputs": []
    },
    {
      "cell_type": "code",
      "source": [
        "df_test = scaler.transform(df_test)"
      ],
      "metadata": {
        "id": "xgwEQXCZuTLy"
      },
      "execution_count": 757,
      "outputs": []
    },
    {
      "cell_type": "code",
      "source": [
        "new_data_pred_proba = Keras_model.predict(df_test)"
      ],
      "metadata": {
        "colab": {
          "base_uri": "https://localhost:8080/"
        },
        "id": "QfVCsPLfuSKI",
        "outputId": "91752c60-73f3-4c01-e06d-33c8ebe027e6"
      },
      "execution_count": 761,
      "outputs": [
        {
          "output_type": "stream",
          "name": "stdout",
          "text": [
            "186/186 [==============================] - 0s 2ms/step\n"
          ]
        }
      ]
    },
    {
      "cell_type": "code",
      "source": [
        "new_data_predictions = (new_data_pred_proba > optimal_threshold).astype(int)"
      ],
      "metadata": {
        "id": "mZQ0PPWouTI9"
      },
      "execution_count": 763,
      "outputs": []
    },
    {
      "cell_type": "code",
      "source": [
        "new_data_predictions"
      ],
      "metadata": {
        "colab": {
          "base_uri": "https://localhost:8080/"
        },
        "id": "by-FkoaQ3aSB",
        "outputId": "8f484c41-6d80-4b0a-ad07-cd9888068176"
      },
      "execution_count": 764,
      "outputs": [
        {
          "output_type": "execute_result",
          "data": {
            "text/plain": [
              "array([[1],\n",
              "       [0],\n",
              "       [1],\n",
              "       ...,\n",
              "       [0],\n",
              "       [1],\n",
              "       [0]])"
            ]
          },
          "metadata": {},
          "execution_count": 764
        }
      ]
    },
    {
      "cell_type": "code",
      "source": [
        "sample_submission_df = pd.read_csv(r'/content/sample_submission.csv')"
      ],
      "metadata": {
        "id": "dEXAwLm23iCh"
      },
      "execution_count": 765,
      "outputs": []
    },
    {
      "cell_type": "code",
      "source": [
        "sample_submission_df['smoking'] = new_data_predictions"
      ],
      "metadata": {
        "id": "43I0076M3qxZ"
      },
      "execution_count": 766,
      "outputs": []
    },
    {
      "cell_type": "code",
      "source": [
        "sample_submission_df"
      ],
      "metadata": {
        "colab": {
          "base_uri": "https://localhost:8080/",
          "height": 424
        },
        "id": "7DxnGeL_3tOc",
        "outputId": "a0584bc2-1f6e-4002-eb88-5d589eba2fb5"
      },
      "execution_count": 767,
      "outputs": [
        {
          "output_type": "execute_result",
          "data": {
            "text/plain": [
              "         ID  smoking\n",
              "0     19200        1\n",
              "1      7784        0\n",
              "2     11682        1\n",
              "3      9949        0\n",
              "4      9378        1\n",
              "...     ...      ...\n",
              "5937  17154        0\n",
              "5938  19366        0\n",
              "5939   1170        0\n",
              "5940   9358        1\n",
              "5941  14302        0\n",
              "\n",
              "[5942 rows x 2 columns]"
            ],
            "text/html": [
              "\n",
              "  <div id=\"df-2720fc61-1b9a-4f2f-af0a-aa7dd1ad3600\" class=\"colab-df-container\">\n",
              "    <div>\n",
              "<style scoped>\n",
              "    .dataframe tbody tr th:only-of-type {\n",
              "        vertical-align: middle;\n",
              "    }\n",
              "\n",
              "    .dataframe tbody tr th {\n",
              "        vertical-align: top;\n",
              "    }\n",
              "\n",
              "    .dataframe thead th {\n",
              "        text-align: right;\n",
              "    }\n",
              "</style>\n",
              "<table border=\"1\" class=\"dataframe\">\n",
              "  <thead>\n",
              "    <tr style=\"text-align: right;\">\n",
              "      <th></th>\n",
              "      <th>ID</th>\n",
              "      <th>smoking</th>\n",
              "    </tr>\n",
              "  </thead>\n",
              "  <tbody>\n",
              "    <tr>\n",
              "      <th>0</th>\n",
              "      <td>19200</td>\n",
              "      <td>1</td>\n",
              "    </tr>\n",
              "    <tr>\n",
              "      <th>1</th>\n",
              "      <td>7784</td>\n",
              "      <td>0</td>\n",
              "    </tr>\n",
              "    <tr>\n",
              "      <th>2</th>\n",
              "      <td>11682</td>\n",
              "      <td>1</td>\n",
              "    </tr>\n",
              "    <tr>\n",
              "      <th>3</th>\n",
              "      <td>9949</td>\n",
              "      <td>0</td>\n",
              "    </tr>\n",
              "    <tr>\n",
              "      <th>4</th>\n",
              "      <td>9378</td>\n",
              "      <td>1</td>\n",
              "    </tr>\n",
              "    <tr>\n",
              "      <th>...</th>\n",
              "      <td>...</td>\n",
              "      <td>...</td>\n",
              "    </tr>\n",
              "    <tr>\n",
              "      <th>5937</th>\n",
              "      <td>17154</td>\n",
              "      <td>0</td>\n",
              "    </tr>\n",
              "    <tr>\n",
              "      <th>5938</th>\n",
              "      <td>19366</td>\n",
              "      <td>0</td>\n",
              "    </tr>\n",
              "    <tr>\n",
              "      <th>5939</th>\n",
              "      <td>1170</td>\n",
              "      <td>0</td>\n",
              "    </tr>\n",
              "    <tr>\n",
              "      <th>5940</th>\n",
              "      <td>9358</td>\n",
              "      <td>1</td>\n",
              "    </tr>\n",
              "    <tr>\n",
              "      <th>5941</th>\n",
              "      <td>14302</td>\n",
              "      <td>0</td>\n",
              "    </tr>\n",
              "  </tbody>\n",
              "</table>\n",
              "<p>5942 rows × 2 columns</p>\n",
              "</div>\n",
              "    <div class=\"colab-df-buttons\">\n",
              "\n",
              "  <div class=\"colab-df-container\">\n",
              "    <button class=\"colab-df-convert\" onclick=\"convertToInteractive('df-2720fc61-1b9a-4f2f-af0a-aa7dd1ad3600')\"\n",
              "            title=\"Convert this dataframe to an interactive table.\"\n",
              "            style=\"display:none;\">\n",
              "\n",
              "  <svg xmlns=\"http://www.w3.org/2000/svg\" height=\"24px\" viewBox=\"0 -960 960 960\">\n",
              "    <path d=\"M120-120v-720h720v720H120Zm60-500h600v-160H180v160Zm220 220h160v-160H400v160Zm0 220h160v-160H400v160ZM180-400h160v-160H180v160Zm440 0h160v-160H620v160ZM180-180h160v-160H180v160Zm440 0h160v-160H620v160Z\"/>\n",
              "  </svg>\n",
              "    </button>\n",
              "\n",
              "  <style>\n",
              "    .colab-df-container {\n",
              "      display:flex;\n",
              "      gap: 12px;\n",
              "    }\n",
              "\n",
              "    .colab-df-convert {\n",
              "      background-color: #E8F0FE;\n",
              "      border: none;\n",
              "      border-radius: 50%;\n",
              "      cursor: pointer;\n",
              "      display: none;\n",
              "      fill: #1967D2;\n",
              "      height: 32px;\n",
              "      padding: 0 0 0 0;\n",
              "      width: 32px;\n",
              "    }\n",
              "\n",
              "    .colab-df-convert:hover {\n",
              "      background-color: #E2EBFA;\n",
              "      box-shadow: 0px 1px 2px rgba(60, 64, 67, 0.3), 0px 1px 3px 1px rgba(60, 64, 67, 0.15);\n",
              "      fill: #174EA6;\n",
              "    }\n",
              "\n",
              "    .colab-df-buttons div {\n",
              "      margin-bottom: 4px;\n",
              "    }\n",
              "\n",
              "    [theme=dark] .colab-df-convert {\n",
              "      background-color: #3B4455;\n",
              "      fill: #D2E3FC;\n",
              "    }\n",
              "\n",
              "    [theme=dark] .colab-df-convert:hover {\n",
              "      background-color: #434B5C;\n",
              "      box-shadow: 0px 1px 3px 1px rgba(0, 0, 0, 0.15);\n",
              "      filter: drop-shadow(0px 1px 2px rgba(0, 0, 0, 0.3));\n",
              "      fill: #FFFFFF;\n",
              "    }\n",
              "  </style>\n",
              "\n",
              "    <script>\n",
              "      const buttonEl =\n",
              "        document.querySelector('#df-2720fc61-1b9a-4f2f-af0a-aa7dd1ad3600 button.colab-df-convert');\n",
              "      buttonEl.style.display =\n",
              "        google.colab.kernel.accessAllowed ? 'block' : 'none';\n",
              "\n",
              "      async function convertToInteractive(key) {\n",
              "        const element = document.querySelector('#df-2720fc61-1b9a-4f2f-af0a-aa7dd1ad3600');\n",
              "        const dataTable =\n",
              "          await google.colab.kernel.invokeFunction('convertToInteractive',\n",
              "                                                    [key], {});\n",
              "        if (!dataTable) return;\n",
              "\n",
              "        const docLinkHtml = 'Like what you see? Visit the ' +\n",
              "          '<a target=\"_blank\" href=https://colab.research.google.com/notebooks/data_table.ipynb>data table notebook</a>'\n",
              "          + ' to learn more about interactive tables.';\n",
              "        element.innerHTML = '';\n",
              "        dataTable['output_type'] = 'display_data';\n",
              "        await google.colab.output.renderOutput(dataTable, element);\n",
              "        const docLink = document.createElement('div');\n",
              "        docLink.innerHTML = docLinkHtml;\n",
              "        element.appendChild(docLink);\n",
              "      }\n",
              "    </script>\n",
              "  </div>\n",
              "\n",
              "\n",
              "<div id=\"df-d140df1c-2829-45dc-9cae-81cc428eac21\">\n",
              "  <button class=\"colab-df-quickchart\" onclick=\"quickchart('df-d140df1c-2829-45dc-9cae-81cc428eac21')\"\n",
              "            title=\"Suggest charts.\"\n",
              "            style=\"display:none;\">\n",
              "\n",
              "<svg xmlns=\"http://www.w3.org/2000/svg\" height=\"24px\"viewBox=\"0 0 24 24\"\n",
              "     width=\"24px\">\n",
              "    <g>\n",
              "        <path d=\"M19 3H5c-1.1 0-2 .9-2 2v14c0 1.1.9 2 2 2h14c1.1 0 2-.9 2-2V5c0-1.1-.9-2-2-2zM9 17H7v-7h2v7zm4 0h-2V7h2v10zm4 0h-2v-4h2v4z\"/>\n",
              "    </g>\n",
              "</svg>\n",
              "  </button>\n",
              "\n",
              "<style>\n",
              "  .colab-df-quickchart {\n",
              "      --bg-color: #E8F0FE;\n",
              "      --fill-color: #1967D2;\n",
              "      --hover-bg-color: #E2EBFA;\n",
              "      --hover-fill-color: #174EA6;\n",
              "      --disabled-fill-color: #AAA;\n",
              "      --disabled-bg-color: #DDD;\n",
              "  }\n",
              "\n",
              "  [theme=dark] .colab-df-quickchart {\n",
              "      --bg-color: #3B4455;\n",
              "      --fill-color: #D2E3FC;\n",
              "      --hover-bg-color: #434B5C;\n",
              "      --hover-fill-color: #FFFFFF;\n",
              "      --disabled-bg-color: #3B4455;\n",
              "      --disabled-fill-color: #666;\n",
              "  }\n",
              "\n",
              "  .colab-df-quickchart {\n",
              "    background-color: var(--bg-color);\n",
              "    border: none;\n",
              "    border-radius: 50%;\n",
              "    cursor: pointer;\n",
              "    display: none;\n",
              "    fill: var(--fill-color);\n",
              "    height: 32px;\n",
              "    padding: 0;\n",
              "    width: 32px;\n",
              "  }\n",
              "\n",
              "  .colab-df-quickchart:hover {\n",
              "    background-color: var(--hover-bg-color);\n",
              "    box-shadow: 0 1px 2px rgba(60, 64, 67, 0.3), 0 1px 3px 1px rgba(60, 64, 67, 0.15);\n",
              "    fill: var(--button-hover-fill-color);\n",
              "  }\n",
              "\n",
              "  .colab-df-quickchart-complete:disabled,\n",
              "  .colab-df-quickchart-complete:disabled:hover {\n",
              "    background-color: var(--disabled-bg-color);\n",
              "    fill: var(--disabled-fill-color);\n",
              "    box-shadow: none;\n",
              "  }\n",
              "\n",
              "  .colab-df-spinner {\n",
              "    border: 2px solid var(--fill-color);\n",
              "    border-color: transparent;\n",
              "    border-bottom-color: var(--fill-color);\n",
              "    animation:\n",
              "      spin 1s steps(1) infinite;\n",
              "  }\n",
              "\n",
              "  @keyframes spin {\n",
              "    0% {\n",
              "      border-color: transparent;\n",
              "      border-bottom-color: var(--fill-color);\n",
              "      border-left-color: var(--fill-color);\n",
              "    }\n",
              "    20% {\n",
              "      border-color: transparent;\n",
              "      border-left-color: var(--fill-color);\n",
              "      border-top-color: var(--fill-color);\n",
              "    }\n",
              "    30% {\n",
              "      border-color: transparent;\n",
              "      border-left-color: var(--fill-color);\n",
              "      border-top-color: var(--fill-color);\n",
              "      border-right-color: var(--fill-color);\n",
              "    }\n",
              "    40% {\n",
              "      border-color: transparent;\n",
              "      border-right-color: var(--fill-color);\n",
              "      border-top-color: var(--fill-color);\n",
              "    }\n",
              "    60% {\n",
              "      border-color: transparent;\n",
              "      border-right-color: var(--fill-color);\n",
              "    }\n",
              "    80% {\n",
              "      border-color: transparent;\n",
              "      border-right-color: var(--fill-color);\n",
              "      border-bottom-color: var(--fill-color);\n",
              "    }\n",
              "    90% {\n",
              "      border-color: transparent;\n",
              "      border-bottom-color: var(--fill-color);\n",
              "    }\n",
              "  }\n",
              "</style>\n",
              "\n",
              "  <script>\n",
              "    async function quickchart(key) {\n",
              "      const quickchartButtonEl =\n",
              "        document.querySelector('#' + key + ' button');\n",
              "      quickchartButtonEl.disabled = true;  // To prevent multiple clicks.\n",
              "      quickchartButtonEl.classList.add('colab-df-spinner');\n",
              "      try {\n",
              "        const charts = await google.colab.kernel.invokeFunction(\n",
              "            'suggestCharts', [key], {});\n",
              "      } catch (error) {\n",
              "        console.error('Error during call to suggestCharts:', error);\n",
              "      }\n",
              "      quickchartButtonEl.classList.remove('colab-df-spinner');\n",
              "      quickchartButtonEl.classList.add('colab-df-quickchart-complete');\n",
              "    }\n",
              "    (() => {\n",
              "      let quickchartButtonEl =\n",
              "        document.querySelector('#df-d140df1c-2829-45dc-9cae-81cc428eac21 button');\n",
              "      quickchartButtonEl.style.display =\n",
              "        google.colab.kernel.accessAllowed ? 'block' : 'none';\n",
              "    })();\n",
              "  </script>\n",
              "</div>\n",
              "    </div>\n",
              "  </div>\n"
            ]
          },
          "metadata": {},
          "execution_count": 767
        }
      ]
    },
    {
      "cell_type": "code",
      "source": [
        "sample_submission_df['smoking'].value_counts()"
      ],
      "metadata": {
        "colab": {
          "base_uri": "https://localhost:8080/"
        },
        "id": "cB3uSNWt3viG",
        "outputId": "d455ef8a-1d83-4c18-c7d5-b89c62d1decb"
      },
      "execution_count": 768,
      "outputs": [
        {
          "output_type": "execute_result",
          "data": {
            "text/plain": [
              "1    2985\n",
              "0    2957\n",
              "Name: smoking, dtype: int64"
            ]
          },
          "metadata": {},
          "execution_count": 768
        }
      ]
    },
    {
      "cell_type": "code",
      "source": [
        "sample_submission_df.to_csv('sample_submission_NN_1.csv', index=False)"
      ],
      "metadata": {
        "id": "Bp-6hsdy3zTD"
      },
      "execution_count": 769,
      "outputs": []
    },
    {
      "cell_type": "code",
      "source": [],
      "metadata": {
        "id": "2k3UKJji36SB"
      },
      "execution_count": null,
      "outputs": []
    }
  ]
}